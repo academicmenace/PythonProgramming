{
 "cells": [
  {
   "cell_type": "code",
   "execution_count": 8,
   "id": "b966ad81",
   "metadata": {},
   "outputs": [
    {
     "name": "stdout",
     "output_type": "stream",
     "text": [
      "Enter a Number12\n",
      "Square: 144\n",
      "Square Root: 3.4641016151377544\n",
      "Cube: 1728\n"
     ]
    }
   ],
   "source": [
    "n=int(input(\"Enter a Number\"))\n",
    "sq = n**2\n",
    "c=n**3\n",
    "sqr = n**0.5\n",
    "print(\"Square:\",sq)\n",
    "print(\"Square Root:\",sqr)\n",
    "print(\"Cube:\",c)\n",
    "\n"
   ]
  },
  {
   "cell_type": "code",
   "execution_count": 10,
   "id": "e679b423",
   "metadata": {},
   "outputs": [
    {
     "name": "stdout",
     "output_type": "stream",
     "text": [
      "Enter a number1\n",
      "Enter a number2\n",
      "Enter a number3\n",
      "Average is:  2.0\n"
     ]
    }
   ],
   "source": [
    "a = int(input(\"Enter a number\"))\n",
    "b = int(input(\"Enter a number\"))\n",
    "c = int(input(\"Enter a number\"))\n",
    "avg = (a+b+c)/3\n",
    "print(\"Average is: \",avg)"
   ]
  },
  {
   "cell_type": "code",
   "execution_count": 11,
   "id": "423ee978",
   "metadata": {},
   "outputs": [
    {
     "name": "stdout",
     "output_type": "stream",
     "text": [
      "Enter the base1\n",
      "Enter the height2\n",
      "Area is:  1.0\n"
     ]
    }
   ],
   "source": [
    "b = float(input(\"Enter the base\"))\n",
    "h = float(input(\"Enter the height\"))\n",
    "area = 0.5*b*h\n",
    "print(\"Area is: \",area)"
   ]
  },
  {
   "cell_type": "code",
   "execution_count": 12,
   "id": "2dc418c7",
   "metadata": {},
   "outputs": [
    {
     "name": "stdout",
     "output_type": "stream",
     "text": [
      "Enter the Principle100\n",
      "Enter the Number of years10\n",
      "Enter the Rate10\n",
      "Simple Interest is:  100.0\n"
     ]
    }
   ],
   "source": [
    "p = int(input(\"Enter the Principle\"))\n",
    "n = int(input(\"Enter the Number of years\"))\n",
    "r = int(input(\"Enter the Rate\"))\n",
    "si = p*n*r/100\n",
    "print(\"Simple Interest is: \",si)"
   ]
  },
  {
   "cell_type": "code",
   "execution_count": 13,
   "id": "f55a08be",
   "metadata": {},
   "outputs": [
    {
     "name": "stdout",
     "output_type": "stream",
     "text": [
      "Enter the temperature in Celcius0\n",
      "Temperature in degree F:  32.0\n"
     ]
    }
   ],
   "source": [
    "c = int(input(\"Enter the temperature in Celcius\"))\n",
    "f = c*9/5 + 32\n",
    "print(\"Temperature in degree F: \",f)"
   ]
  },
  {
   "cell_type": "code",
   "execution_count": 17,
   "id": "9744090b",
   "metadata": {},
   "outputs": [
    {
     "name": "stdout",
     "output_type": "stream",
     "text": [
      "Enter the x coordinate of point a: 0\n",
      "Enter the y coordinate of point a: 0\n",
      "Enter the z coordinate of point a: 0\n",
      "Enter the x coordinate of point b: 0\n",
      "Enter the y coordinate of point c: 0\n",
      "Enter the z coordinate of point c: 0\n",
      "The Euclidean distance is:  0.0\n"
     ]
    }
   ],
   "source": [
    "#program to calculate the distance between points on a plane\n",
    "x1 = int(input(\"Enter the x coordinate of point a: \"))\n",
    "y1 = int(input(\"Enter the y coordinate of point a: \"))\n",
    "z1 = int(input(\"Enter the z coordinate of point a: \"))\n",
    "x2 = int(input(\"Enter the x coordinate of point b: \"))\n",
    "y2 = int(input(\"Enter the y coordinate of point c: \"))\n",
    "z2 = int(input(\"Enter the z coordinate of point c: \"))\n",
    "d = ((x1-x2)**2 + (y2-y1)**2 + (z2-z1)**2)**0.5\n",
    "print(\"The Euclidean distance is: \", d)"
   ]
  },
  {
   "cell_type": "code",
   "execution_count": 20,
   "id": "af43db46",
   "metadata": {},
   "outputs": [
    {
     "name": "stdout",
     "output_type": "stream",
     "text": [
      "Enter a number1\n",
      "Enter a number2\n",
      "a:  2\n",
      "b:  1\n",
      "Enter a number1\n",
      "Enter a number2\n",
      "a:  2\n",
      "b:  1\n",
      "Enter a number1\n",
      "Enter a number2\n",
      "a:  2\n",
      "b:  1\n"
     ]
    }
   ],
   "source": [
    "#program to swap variables using:\n",
    "#temp\n",
    "a = int(input(\"Enter a number\"))\n",
    "b = int(input(\"Enter a number\"))\n",
    "temp =a\n",
    "a=b\n",
    "b=temp\n",
    "print(\"a: \", a)\n",
    "print(\"b: \", b)\n",
    "\n",
    "#using XOR\n",
    "a = int(input(\"Enter a number\"))\n",
    "b = int(input(\"Enter a number\"))\n",
    "a=a^b\n",
    "b = a^b\n",
    "a = a^b\n",
    "print(\"a: \", a)\n",
    "print(\"b: \", b)\n",
    "\n",
    "#using comma operator\n",
    "a = int(input(\"Enter a number\"))\n",
    "b = int(input(\"Enter a number\"))\n",
    "a,b=b,a\n",
    "print(\"a: \", a)\n",
    "print(\"b: \", b)"
   ]
  },
  {
   "cell_type": "markdown",
   "id": "204b35ea",
   "metadata": {},
   "source": [
    "## "
   ]
  },
  {
   "cell_type": "code",
   "execution_count": null,
   "id": "c49afb57",
   "metadata": {},
   "outputs": [],
   "source": [
    "#program to solve a quadratic equation\n",
    "import cmath\n",
    "a = int(input(\"Enter a: \"))\n",
    "b = int(input(\"Enter b: \"))\n",
    "c = int(input(\"Enter c: \"))\n",
    "d = (b**2 - 4*a*c)\n",
    "if d>0:\n",
    "    print(\"Real and Distinct roots \")\n",
    "elif d<0:\n",
    "    print(\"Imaginary Roots\")\n",
    "else:\n",
    "    print(\"Equal roots\")\n",
    "x1 = (-b + cmath.sqrt(b**2 - 4*a*c))/2*a\n",
    "x1 = (-b - cmath.sqrt(b**2 - 4*a*c))/2*a\n",
    "print(\"First root: \", x1)\n",
    "print(\"Second root: \", x2)"
   ]
  }
 ],
 "metadata": {
  "kernelspec": {
   "display_name": "Python 3 (ipykernel)",
   "language": "python",
   "name": "python3"
  },
  "language_info": {
   "codemirror_mode": {
    "name": "ipython",
    "version": 3
   },
   "file_extension": ".py",
   "mimetype": "text/x-python",
   "name": "python",
   "nbconvert_exporter": "python",
   "pygments_lexer": "ipython3",
   "version": "3.9.13"
  }
 },
 "nbformat": 4,
 "nbformat_minor": 5
}
