{
  "nbformat": 4,
  "nbformat_minor": 0,
  "metadata": {
    "colab": {
      "provenance": []
    },
    "kernelspec": {
      "name": "python3",
      "display_name": "Python 3"
    },
    "language_info": {
      "name": "python"
    }
  },
  "cells": [
    {
      "cell_type": "code",
      "execution_count": null,
      "metadata": {
        "id": "jwSozev5kxhD"
      },
      "outputs": [],
      "source": [
        "#Q1\n",
        "list=[]\n",
        "n = int(input(\"Enter the number of elements you wish to enter in the list\"))\n",
        "for x in range(n):\n",
        "    f=int(input(\"Enter the element\"))\n",
        "    list.append(f)\n",
        "sum = sum(list)\n",
        "print(\"The sum of the elements is: \", sum)\n",
        "#Enter the number of elements you wish to enter in the list2\n",
        "#Enter the element1\n",
        "#Enter the element2\n",
        "#The sum of the elements is:  3"
      ]
    },
    {
      "cell_type": "code",
      "source": [
        "#Q2\n",
        "tosearch = int(input(\"The value you wish to search is: \"))\n",
        "list = [1,1,3,4]\n",
        "found = 0\n",
        "i=0\n",
        "for x in list:\n",
        "\n",
        "    if tosearch == x:\n",
        "\n",
        "        print(\"Element found at index\", i)\n",
        "        found =1\n",
        "    i = i+1\n",
        "if found == 0:\n",
        "    print(\"Element not found\")\n",
        "#The value you wish to search is: 1\n",
        "\n",
        "#Element found at index 0\n",
        "\n",
        "#Element found at index 1"
      ],
      "metadata": {
        "id": "AQrz52tdk0X6"
      },
      "execution_count": null,
      "outputs": []
    },
    {
      "cell_type": "code",
      "source": [
        "#Q3\n",
        "list =[]\n",
        "n = int(input(\"Enter the number of elements you wish to enter in the list\"))\n",
        "for x in range(n):\n",
        "    f=int(input(\"Enter the element\"))\n",
        "    list.append(f)\n",
        "print(\"insert 13 on position 4\")\n",
        "list.insert(13, 4)\n",
        "for y in list:\n",
        "    print(y)\n",
        "print(\"sort in ascending order\")\n",
        "list.sort()\n",
        "for y in list:\n",
        "    print(y)\n",
        "#delete the last element\n",
        "list.pop()\n",
        "for y in list:\n",
        "    print(y)\n",
        "print(\"remove 31\")\n",
        "list.remove(31)\n",
        "for y in list:\n",
        "    print(y)\n",
        "print(\"reverse the list\")\n",
        "list.reverse()\n",
        "for y in list:\n",
        "    print(y)\n",
        "print(\"append\")\n",
        "g = int(input(\"Enter element to append\"))\n",
        "list.append(g)\n",
        "for y in list:\n",
        "    print(y)\n",
        "print(\"Extend\")\n",
        "list1 = [20,30,40]\n",
        "list.extend(list1)\n",
        "for y in list:\n",
        "    print(y)\n",
        "\n",
        "#list = [1,2,3]\n",
        "def count_elements(list):\n",
        "    count = 0\n",
        "    while list:\n",
        "        list = list[1:]\n",
        "        count += 1\n",
        "    return count\n",
        "print(count_elements(list))\n",
        "#Enter the number of elements you wish to enter in the list3\n",
        "#Enter the element31\n",
        "#Enter the element22\n",
        "#Enter the element33\n",
        "#insert 13 on position 4\n",
        "#31\n",
        "#22\n",
        "#33\n",
        "#4\n",
        "#sort in ascending order\n",
        "#4\n",
        "#22\n",
        "#31\n",
        "#33\n",
        "#4\n",
        "#22\n",
        "#31\n",
        "#remove 31\n",
        "#4\n",
        "#22\n",
        "#reverse the list\n",
        "#22\n",
        "#4\n",
        "#append\n",
        "#Enter element to append2\n",
        "#22\n",
        "#4\n",
        "#2\n",
        "#Extend\n",
        "#22\n",
        "#4\n",
        "#2\n",
        "#20\n",
        "#30\n",
        "#40\n",
        "#6"
      ],
      "metadata": {
        "id": "YLa__GOZk23B"
      },
      "execution_count": null,
      "outputs": []
    },
    {
      "cell_type": "code",
      "source": [
        "#Q4\n",
        "tup = (1,2,3)\n",
        "print(\"MAXIMMUM\", max(tup))\n",
        "print(\"MINIMUM\", min(tup))"
      ],
      "metadata": {
        "id": "VXPNToMhk4SM"
      },
      "execution_count": null,
      "outputs": []
    },
    {
      "cell_type": "code",
      "source": [
        "#Q5\n",
        "set1 = {1,2,3}\n",
        "set2={1,9,7}\n",
        "f = int(input(\"Element to add\"))\n",
        "set1.add(f)\n",
        "print(\"UNION\", set1.union(set2))\n",
        "print(\"INTERSECTION\" ,set1.union(set2))\n",
        "print(\"DIFFERENCE\", set1.difference(set2))\n",
        "print(\"SYMMETRIC DIFFERENCE\" ,set1.symmetric_difference(set2))\n",
        "print(\"Length\", len(set1))\n",
        "print(\"max\",max(set1))\n",
        "print(\"min\",min(set1))\n",
        "print(\"Clear\",set1.clear())\n",
        "#MAXIMMUM 3\n",
        "#MINIMUM 1\n"
      ],
      "metadata": {
        "id": "He6gLfP7k-ve"
      },
      "execution_count": null,
      "outputs": []
    },
    {
      "cell_type": "code",
      "source": [
        "#Q6\n",
        "week = {\n",
        "    \"1\": \"Monday\",\n",
        "    \"2\": \"Tuesday\",\n",
        "    \"3\": \"Wednesday\",\n",
        "    \"4\": \"Thursday\",\n",
        "    \"5\": \"Friday\",\n",
        "    \"6\": \"Saturday\",\n",
        "    \"7\": \"Sunday\"\n",
        "}\n",
        "print(week)\n",
        "#{'1': 'Monday', '2': 'Tuesday', '3': 'Wednesday', '4': 'Thursday', '5': 'Friday', '6': 'Saturday', '7': 'Sunday'}"
      ],
      "metadata": {
        "id": "jEHlvS2clCk2"
      },
      "execution_count": null,
      "outputs": []
    },
    {
      "cell_type": "code",
      "source": [
        "#Q7\n",
        "dict = {\n",
        "    \"1\": 100,\n",
        "    \"2\": 200,\n",
        "    \"3\": 300\n",
        "}\n",
        "print(\"Sum\", sum(dict.values()))\n",
        "#Sum 600"
      ],
      "metadata": {
        "id": "IwYjpuyolHas"
      },
      "execution_count": null,
      "outputs": []
    },
    {
      "cell_type": "code",
      "source": [
        "#Q8\n",
        "student = {\n",
        "    \"70022300056\": 2,\n",
        "    \"70022300066\": 2,\n",
        "    \"70022300058\": 2,\n",
        "}\n",
        "\n",
        "print(\"Keys:\", student.keys())\n",
        "print(\"Values:\", student.values())\n",
        "\n",
        "i = input(\"Enter sap: \")\n",
        "g = int(input('Enter grade: '))\n",
        "if i in student:\n",
        "    student[i] = g\n",
        "print(\"Updated student:\", student)\n",
        "\n",
        "i = input(\"Enter sap to delete: \")\n",
        "if i in student:\n",
        "    del student[i]\n",
        "    print(\"Deleted student:\", student)\n",
        "\n",
        "for x in student:\n",
        "    student[x] += 5\n",
        "\n",
        "print(\"Updated grades:\", student)\n",
        "print(\"Length:\", len(student))\n",
        "\n",
        "student1 = student.copy()\n",
        "print(\"Copied student1:\", student1)\n",
        "\n",
        "#Keys: dict_keys(['70022300056', '70022300066', '70022300058'])\n",
        "#Values: dict_values([2, 2, 2])\n",
        "#Enter sap: 70022300056\n",
        "#Enter grade: 4\n",
        "#Updated student: {'70022300056': 4, '70022300066': 2, '70022300058': 2}\n",
        "#Enter sap to delete: 70022300066\n",
        "#Deleted student: {'70022300056': 4, '70022300058': 2}\n",
        "#Updated grades: {'70022300056': 9, '70022300058': 7}\n",
        "#Length: 2\n",
        "#Copied student1: {'70022300056': 9, '70022300058': 7}\n"
      ],
      "metadata": {
        "id": "fVyBUe5qlLrZ"
      },
      "execution_count": null,
      "outputs": []
    },
    {
      "cell_type": "code",
      "source": [
        "#Q9\n",
        "my_dict = {'banana': 3, 'apple': 1, 'orange': 2, 'grape': 4}\n",
        "\n",
        "# Sorting the dictionary by keys\n",
        "sorted_dict = dict(sorted(my_dict.items()))\n",
        "\n",
        "# Printing the sorted dictionary\n",
        "print(sorted_dict)\n",
        "#{'apple': 1, 'banana': 3, 'grape': 4, 'orange': 2}\n"
      ],
      "metadata": {
        "id": "CQASsNwDlpD8"
      },
      "execution_count": null,
      "outputs": []
    }
  ]
}